{
 "cells": [
  {
   "cell_type": "code",
   "execution_count": 1,
   "metadata": {
    "collapsed": false
   },
   "outputs": [
    {
     "name": "stderr",
     "output_type": "stream",
     "text": [
      "Using TensorFlow backend.\n"
     ]
    }
   ],
   "source": [
    "import pandas as pd\n",
    "import numpy as np\n",
    "from keras.models import Sequential\n",
    "from keras.layers import Dense\n",
    "import keras.utils.np_utils as kutils"
   ]
  },
  {
   "cell_type": "code",
   "execution_count": 2,
   "metadata": {
    "collapsed": false
   },
   "outputs": [],
   "source": [
    "data=pd.read_csv('data/train.csv').values"
   ]
  },
  {
   "cell_type": "code",
   "execution_count": 3,
   "metadata": {
    "collapsed": true
   },
   "outputs": [],
   "source": [
    "X_train=data[:,1:]\n",
    "y_train=data[:,0:1]"
   ]
  },
  {
   "cell_type": "code",
   "execution_count": 4,
   "metadata": {
    "collapsed": false
   },
   "outputs": [
    {
     "data": {
      "text/plain": [
       "(42000, 784)"
      ]
     },
     "execution_count": 4,
     "metadata": {},
     "output_type": "execute_result"
    }
   ],
   "source": [
    "X_train.shape"
   ]
  },
  {
   "cell_type": "code",
   "execution_count": 5,
   "metadata": {
    "collapsed": false
   },
   "outputs": [],
   "source": [
    "y_train = kutils.to_categorical(y_train)"
   ]
  },
  {
   "cell_type": "code",
   "execution_count": 6,
   "metadata": {
    "collapsed": true
   },
   "outputs": [],
   "source": [
    "model = Sequential()\n",
    "\n",
    "model.add(Dense(20, input_dim=784, init='uniform', activation='relu'))\n",
    "model.add(Dense(20, init='uniform', activation='relu'))\n",
    "model.add(Dense(20, init='uniform', activation='relu'))\n",
    "model.add(Dense(10, init='uniform', activation='sigmoid'))\n",
    "\n",
    "model.compile(loss='binary_crossentropy', optimizer='adam', metrics=['accuracy'])"
   ]
  },
  {
   "cell_type": "code",
   "execution_count": 7,
   "metadata": {
    "collapsed": false
   },
   "outputs": [
    {
     "name": "stdout",
     "output_type": "stream",
     "text": [
      "Epoch 1/10\n",
      "42000/42000 [==============================] - 14s - loss: 0.0678 - acc: 0.9771    \n",
      "Epoch 2/10\n",
      "42000/42000 [==============================] - 14s - loss: 0.0377 - acc: 0.9877    \n",
      "Epoch 3/10\n",
      "42000/42000 [==============================] - 14s - loss: 0.0328 - acc: 0.9894    \n",
      "Epoch 4/10\n",
      "42000/42000 [==============================] - 13s - loss: 0.0297 - acc: 0.9905    \n",
      "Epoch 5/10\n",
      "42000/42000 [==============================] - 13s - loss: 0.0279 - acc: 0.9910    \n",
      "Epoch 6/10\n",
      "42000/42000 [==============================] - 14s - loss: 0.0265 - acc: 0.9916    \n",
      "Epoch 7/10\n",
      "42000/42000 [==============================] - 14s - loss: 0.0259 - acc: 0.9918    \n",
      "Epoch 8/10\n",
      "42000/42000 [==============================] - 14s - loss: 0.0243 - acc: 0.9924    \n",
      "Epoch 9/10\n",
      "42000/42000 [==============================] - 15s - loss: 0.0240 - acc: 0.9925    \n",
      "Epoch 10/10\n",
      "42000/42000 [==============================] - 16s - loss: 0.0233 - acc: 0.9928    \n"
     ]
    },
    {
     "data": {
      "text/plain": [
       "<keras.callbacks.History at 0x7f27efebfb70>"
      ]
     },
     "execution_count": 7,
     "metadata": {},
     "output_type": "execute_result"
    }
   ],
   "source": [
    "model.fit(X_train, y_train, nb_epoch=10, batch_size=10)"
   ]
  },
  {
   "cell_type": "code",
   "execution_count": null,
   "metadata": {
    "collapsed": true
   },
   "outputs": [],
   "source": []
  }
 ],
 "metadata": {
  "kernelspec": {
   "display_name": "Python 3",
   "language": "python",
   "name": "python3"
  },
  "language_info": {
   "codemirror_mode": {
    "name": "ipython",
    "version": 3
   },
   "file_extension": ".py",
   "mimetype": "text/x-python",
   "name": "python",
   "nbconvert_exporter": "python",
   "pygments_lexer": "ipython3",
   "version": "3.5.2"
  }
 },
 "nbformat": 4,
 "nbformat_minor": 1
}
