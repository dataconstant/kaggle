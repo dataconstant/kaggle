{
 "cells": [
  {
   "cell_type": "code",
   "execution_count": 40,
   "metadata": {
    "collapsed": false
   },
   "outputs": [],
   "source": [
    "import pandas as pd\n",
    "import numpy as np\n",
    "from keras.models import Sequential\n",
    "from keras.layers import Dense,Convolution2D,MaxPooling2D,Flatten,Activation,Dropout\n",
    "import keras.utils.np_utils as kutils\n",
    "from sklearn.preprocessing import StandardScaler,LabelEncoder"
   ]
  },
  {
   "cell_type": "code",
   "execution_count": 10,
   "metadata": {
    "collapsed": true
   },
   "outputs": [],
   "source": [
    "train=pd.read_csv('data/leaves/train.csv').values"
   ]
  },
  {
   "cell_type": "code",
   "execution_count": 13,
   "metadata": {
    "collapsed": false
   },
   "outputs": [
    {
     "data": {
      "text/plain": [
       "array([[1, 'Acer_Opalus', 0.007812, ..., 0.004883, 0.0, 0.025391],\n",
       "       [2, 'Pterocarya_Stenoptera', 0.0058590000000000005, ..., 0.000977,\n",
       "        0.039062, 0.022461000000000002],\n",
       "       [3, 'Quercus_Hartwissiana', 0.0058590000000000005, ..., 0.0,\n",
       "        0.020508000000000002, 0.00293],\n",
       "       ..., \n",
       "       [1581, 'Alnus_Maximowiczii', 0.001953, ..., 0.027344, 0.0, 0.001953],\n",
       "       [1582, 'Quercus_Rubra', 0.0, ..., 0.0, 0.001953, 0.00293],\n",
       "       [1584, 'Quercus_Afares', 0.023438, ..., 0.023438, 0.025391,\n",
       "        0.022461000000000002]], dtype=object)"
      ]
     },
     "execution_count": 13,
     "metadata": {},
     "output_type": "execute_result"
    }
   ],
   "source": [
    "train"
   ]
  },
  {
   "cell_type": "code",
   "execution_count": 18,
   "metadata": {
    "collapsed": true
   },
   "outputs": [],
   "source": [
    "X=train[:,2:]\n",
    "X.shape"
   ]
  },
  {
   "cell_type": "code",
   "execution_count": 24,
   "metadata": {
    "collapsed": true
   },
   "outputs": [],
   "source": [
    "y=train[:,1:2]\n",
    "y.shape"
   ]
  },
  {
   "cell_type": "code",
   "execution_count": 30,
   "metadata": {
    "collapsed": true
   },
   "outputs": [],
   "source": [
    "sc=StandardScaler()\n",
    "X=sc.fit_transform(X)"
   ]
  },
  {
   "cell_type": "code",
   "execution_count": 32,
   "metadata": {
    "collapsed": false
   },
   "outputs": [
    {
     "data": {
      "text/plain": [
       "(990, 192)"
      ]
     },
     "execution_count": 32,
     "metadata": {},
     "output_type": "execute_result"
    }
   ],
   "source": [
    "X.shape"
   ]
  },
  {
   "cell_type": "code",
   "execution_count": 42,
   "metadata": {
    "collapsed": false
   },
   "outputs": [
    {
     "name": "stderr",
     "output_type": "stream",
     "text": [
      "/usr/local/lib/python3.5/dist-packages/sklearn/preprocessing/label.py:125: DataConversionWarning: A column-vector y was passed when a 1d array was expected. Please change the shape of y to (n_samples, ), for example using ravel().\n",
      "  y = column_or_1d(y, warn=True)\n"
     ]
    }
   ],
   "source": [
    "le=LabelEncoder()\n",
    "y=le.fit_transform(y)\n",
    "y=kutils.to_categorical(y,99)"
   ]
  },
  {
   "cell_type": "code",
   "execution_count": 56,
   "metadata": {
    "collapsed": true
   },
   "outputs": [],
   "source": [
    "model=Sequential()"
   ]
  },
  {
   "cell_type": "code",
   "execution_count": 57,
   "metadata": {
    "collapsed": true
   },
   "outputs": [],
   "source": [
    "model.add(Dense(output_dim=1024,init='uniform',activation='relu',input_dim=192))\n",
    "model.add(Dense(output_dim=512,init='uniform',activation='relu'))\n",
    "model.add(Dense(output_dim=99,init='uniform',activation='sigmoid'))"
   ]
  },
  {
   "cell_type": "code",
   "execution_count": 60,
   "metadata": {
    "collapsed": false
   },
   "outputs": [
    {
     "name": "stdout",
     "output_type": "stream",
     "text": [
      "Train on 940 samples, validate on 50 samples\n",
      "Epoch 1/15\n",
      "940/940 [==============================] - 1s - loss: 0.0402 - acc: 0.9915 - val_loss: 0.0791 - val_acc: 0.9800\n",
      "Epoch 2/15\n",
      "940/940 [==============================] - 0s - loss: 0.0174 - acc: 0.9936 - val_loss: 0.0538 - val_acc: 0.9800\n",
      "Epoch 3/15\n",
      "940/940 [==============================] - 0s - loss: 0.0071 - acc: 0.9989 - val_loss: 0.0200 - val_acc: 1.0000\n",
      "Epoch 4/15\n",
      "940/940 [==============================] - 0s - loss: 0.0037 - acc: 1.0000 - val_loss: 0.0349 - val_acc: 0.9800\n",
      "Epoch 5/15\n",
      "940/940 [==============================] - 0s - loss: 0.0026 - acc: 1.0000 - val_loss: 0.0254 - val_acc: 1.0000\n",
      "Epoch 6/15\n",
      "940/940 [==============================] - 0s - loss: 0.0015 - acc: 1.0000 - val_loss: 0.0175 - val_acc: 1.0000\n",
      "Epoch 7/15\n",
      "940/940 [==============================] - 0s - loss: 6.6578e-04 - acc: 1.0000 - val_loss: 0.0167 - val_acc: 1.0000\n",
      "Epoch 8/15\n",
      "940/940 [==============================] - 0s - loss: 3.3706e-04 - acc: 1.0000 - val_loss: 0.0160 - val_acc: 1.0000\n",
      "Epoch 9/15\n",
      "940/940 [==============================] - 0s - loss: 3.9508e-04 - acc: 1.0000 - val_loss: 0.0126 - val_acc: 1.0000\n",
      "Epoch 10/15\n",
      "940/940 [==============================] - 0s - loss: 1.7134e-04 - acc: 1.0000 - val_loss: 0.0118 - val_acc: 1.0000\n",
      "Epoch 11/15\n",
      "940/940 [==============================] - 0s - loss: 1.5332e-04 - acc: 1.0000 - val_loss: 0.0113 - val_acc: 1.0000\n",
      "Epoch 12/15\n",
      "940/940 [==============================] - 0s - loss: 1.3608e-04 - acc: 1.0000 - val_loss: 0.0105 - val_acc: 1.0000\n",
      "Epoch 13/15\n",
      "940/940 [==============================] - 0s - loss: 1.1529e-04 - acc: 1.0000 - val_loss: 0.0099 - val_acc: 1.0000\n",
      "Epoch 14/15\n",
      "940/940 [==============================] - 0s - loss: 1.0265e-04 - acc: 1.0000 - val_loss: 0.0090 - val_acc: 1.0000\n",
      "Epoch 15/15\n",
      "940/940 [==============================] - 0s - loss: 9.4616e-05 - acc: 1.0000 - val_loss: 0.0084 - val_acc: 1.0000\n"
     ]
    },
    {
     "data": {
      "text/plain": [
       "<keras.callbacks.History at 0x7f99629de978>"
      ]
     },
     "execution_count": 60,
     "metadata": {},
     "output_type": "execute_result"
    }
   ],
   "source": [
    "model.compile(optimizer='adam',loss='categorical_crossentropy',metrics=['accuracy'])\n",
    "model.fit(X,y,batch_size=128,validation_split=0.05,nb_epoch=15)"
   ]
  },
  {
   "cell_type": "code",
   "execution_count": 89,
   "metadata": {
    "collapsed": false
   },
   "outputs": [],
   "source": [
    "test = pd.read_csv('data/leaves/test.csv')\n",
    "index = test.pop('id')\n",
    "test = StandardScaler().fit(test).transform(test)"
   ]
  },
  {
   "cell_type": "code",
   "execution_count": 90,
   "metadata": {
    "collapsed": false
   },
   "outputs": [
    {
     "name": "stdout",
     "output_type": "stream",
     "text": [
      "594/594 [==============================] - 0s     \n"
     ]
    }
   ],
   "source": [
    "y_pred=model.predict_classes(test_x,batch_size=128)"
   ]
  }
 ],
 "metadata": {
  "kernelspec": {
   "display_name": "Python 3",
   "language": "python",
   "name": "python3"
  },
  "language_info": {
   "codemirror_mode": {
    "name": "ipython",
    "version": 3
   },
   "file_extension": ".py",
   "mimetype": "text/x-python",
   "name": "python",
   "nbconvert_exporter": "python",
   "pygments_lexer": "ipython3",
   "version": "3.5.2"
  }
 },
 "nbformat": 4,
 "nbformat_minor": 1
}
