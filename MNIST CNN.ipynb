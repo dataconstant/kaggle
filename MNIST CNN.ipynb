{
 "cells": [
  {
   "cell_type": "code",
   "execution_count": 1,
   "metadata": {
    "collapsed": false
   },
   "outputs": [
    {
     "name": "stderr",
     "output_type": "stream",
     "text": [
      "Using TensorFlow backend.\n"
     ]
    }
   ],
   "source": [
    "import pandas as pd\n",
    "import numpy as np\n",
    "from keras.models import Sequential\n",
    "from keras.layers import Dense,Convolution2D,MaxPooling2D,Flatten,Activation,Dropout\n",
    "import keras.utils.np_utils as kutils"
   ]
  },
  {
   "cell_type": "code",
   "execution_count": 2,
   "metadata": {
    "collapsed": true
   },
   "outputs": [],
   "source": [
    "data=pd.read_csv('data/train.csv').values\n",
    "test_data=pd.read_csv('data/test.csv').values"
   ]
  },
  {
   "cell_type": "code",
   "execution_count": 3,
   "metadata": {
    "collapsed": false
   },
   "outputs": [
    {
     "data": {
      "text/plain": [
       "(28000, 28, 28, 1)"
      ]
     },
     "execution_count": 3,
     "metadata": {},
     "output_type": "execute_result"
    }
   ],
   "source": [
    "test_data=test_data.reshape(test_data.shape[0], 28, 28, 1)\n",
    "test_data.shape"
   ]
  },
  {
   "cell_type": "code",
   "execution_count": 4,
   "metadata": {
    "collapsed": true
   },
   "outputs": [],
   "source": [
    "X=data[:,1:]\n",
    "y=data[:,0:1]"
   ]
  },
  {
   "cell_type": "code",
   "execution_count": 5,
   "metadata": {
    "collapsed": true
   },
   "outputs": [],
   "source": [
    "y=kutils.to_categorical(y)"
   ]
  },
  {
   "cell_type": "code",
   "execution_count": 6,
   "metadata": {
    "collapsed": true
   },
   "outputs": [],
   "source": [
    "X = X.reshape(X.shape[0], 28, 28, 1)"
   ]
  },
  {
   "cell_type": "code",
   "execution_count": 7,
   "metadata": {
    "collapsed": false
   },
   "outputs": [],
   "source": [
    "model = Sequential()\n",
    "\n",
    "model.add(Convolution2D(32, 3, 3,border_mode='valid',input_shape=(28,28,1)))\n",
    "model.add(Activation('relu'))\n",
    "model.add(Convolution2D(32, 3, 3))\n",
    "model.add(Activation('relu'))\n",
    "model.add(MaxPooling2D(pool_size=(2,2)))\n",
    "\n",
    "model.add(Convolution2D(64,3,3,activation='relu'))\n",
    "model.add(Convolution2D(64,3,3,activation='relu'))\n",
    "model.add(MaxPooling2D(pool_size=(2,2)))\n",
    "\n",
    "model.add(Flatten())\n",
    "model.add(Dense(20, init='uniform', activation='relu'))\n",
    "model.add(Dense(20, init='uniform', activation='relu'))\n",
    "model.add(Dense(20, init='uniform', activation='relu'))\n",
    "model.add(Dense(10, init='uniform', activation='sigmoid'))"
   ]
  },
  {
   "cell_type": "code",
   "execution_count": 8,
   "metadata": {
    "collapsed": true
   },
   "outputs": [],
   "source": [
    "model.compile(loss='binary_crossentropy', optimizer='adam', metrics=['accuracy'])"
   ]
  },
  {
   "cell_type": "code",
   "execution_count": 9,
   "metadata": {
    "collapsed": false
   },
   "outputs": [
    {
     "name": "stdout",
     "output_type": "stream",
     "text": [
      "Epoch 1/10\n",
      "42000/42000 [==============================] - 170s - loss: 0.1635 - acc: 0.9456   \n",
      "Epoch 2/10\n",
      "42000/42000 [==============================] - 160s - loss: 0.0234 - acc: 0.9924   \n",
      "Epoch 3/10\n",
      "42000/42000 [==============================] - 158s - loss: 0.0153 - acc: 0.9951   \n",
      "Epoch 4/10\n",
      "42000/42000 [==============================] - 157s - loss: 0.0122 - acc: 0.9960   \n",
      "Epoch 5/10\n",
      "42000/42000 [==============================] - 158s - loss: 0.0097 - acc: 0.9969   \n",
      "Epoch 6/10\n",
      "42000/42000 [==============================] - 166s - loss: 0.0083 - acc: 0.9974   \n",
      "Epoch 7/10\n",
      "42000/42000 [==============================] - 184s - loss: 0.0072 - acc: 0.9976   \n",
      "Epoch 8/10\n",
      "42000/42000 [==============================] - 153s - loss: 0.0062 - acc: 0.9980   \n",
      "Epoch 9/10\n",
      "42000/42000 [==============================] - 150s - loss: 0.0053 - acc: 0.9983   \n",
      "Epoch 10/10\n",
      "42000/42000 [==============================] - 151s - loss: 0.0049 - acc: 0.9984   \n"
     ]
    },
    {
     "data": {
      "text/plain": [
       "<keras.callbacks.History at 0x7f3698286c50>"
      ]
     },
     "execution_count": 9,
     "metadata": {},
     "output_type": "execute_result"
    }
   ],
   "source": [
    "model.fit(X, y, batch_size = 128, nb_epoch = 10)"
   ]
  },
  {
   "cell_type": "code",
   "execution_count": 10,
   "metadata": {
    "collapsed": false
   },
   "outputs": [
    {
     "name": "stdout",
     "output_type": "stream",
     "text": [
      "28000/28000 [==============================] - 32s    \n"
     ]
    }
   ],
   "source": [
    "y_pred=model.predict_classes(test_data,batch_size=128)"
   ]
  },
  {
   "cell_type": "code",
   "execution_count": 11,
   "metadata": {
    "collapsed": false
   },
   "outputs": [],
   "source": [
    "np.savetxt('mnist.csv', np.c_[range(1,len(y_pred)+1),y_pred], delimiter=',', header = 'ImageId,Label', comments = '', fmt='%d')"
   ]
  },
  {
   "cell_type": "markdown",
   "metadata": {},
   "source": [
    "Result - 396th of 1499\n",
    "Score - 0.98757"
   ]
  }
 ],
 "metadata": {
  "kernelspec": {
   "display_name": "Python 3",
   "language": "python",
   "name": "python3"
  },
  "language_info": {
   "codemirror_mode": {
    "name": "ipython",
    "version": 3
   },
   "file_extension": ".py",
   "mimetype": "text/x-python",
   "name": "python",
   "nbconvert_exporter": "python",
   "pygments_lexer": "ipython3",
   "version": "3.5.2"
  }
 },
 "nbformat": 4,
 "nbformat_minor": 1
}
